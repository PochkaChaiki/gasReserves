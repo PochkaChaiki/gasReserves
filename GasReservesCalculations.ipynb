{
  "nbformat": 4,
  "nbformat_minor": 0,
  "metadata": {
    "colab": {
      "provenance": [],
      "authorship_tag": "ABX9TyMDtxTTUgjCA4ejbkHB+er1",
      "include_colab_link": true
    },
    "kernelspec": {
      "name": "python3",
      "display_name": "Python 3"
    },
    "language_info": {
      "name": "python"
    }
  },
  "cells": [
    {
      "cell_type": "markdown",
      "metadata": {
        "id": "view-in-github",
        "colab_type": "text"
      },
      "source": [
        "<a href=\"https://colab.research.google.com/github/PochkaChaiki/gasReserves/blob/main/GasReservesCalculations.ipynb\" target=\"_parent\"><img src=\"https://colab.research.google.com/assets/colab-badge.svg\" alt=\"Open In Colab\"/></a>"
      ]
    },
    {
      "cell_type": "markdown",
      "source": [
        "## Imports"
      ],
      "metadata": {
        "id": "5sNBwGrCwIrs"
      }
    },
    {
      "cell_type": "code",
      "source": [
        "from dataclasses import dataclass"
      ],
      "metadata": {
        "id": "sO6XxksSwIBk"
      },
      "execution_count": null,
      "outputs": []
    },
    {
      "cell_type": "markdown",
      "source": [
        "## **Initial data**"
      ],
      "metadata": {
        "id": "bjjrE8wb32nW"
      }
    },
    {
      "cell_type": "code",
      "source": [
        "@dataclass\n",
        "class Property:\n",
        "    value: float\n",
        "    min: float\n",
        "    max: float\n",
        "    mean: float\n",
        "    sigma: float"
      ],
      "metadata": {
        "id": "nZs_wpo4wZ6W"
      },
      "execution_count": null,
      "outputs": []
    },
    {
      "cell_type": "code",
      "execution_count": null,
      "metadata": {
        "id": "kNwPJGca2BGG"
      },
      "outputs": [],
      "source": [
        "area                = Property(value=38_556, min=36_628.20, max=40_483.80, mean=38_556, sigma=3650)\n",
        "effective_thickness = Property(value=11.10, min=10.50, max=12.15, mean=11.10, sigma=0.87)\n",
        "porosity_coef       = Property(value=0.09, min=0.01, max=0.13, mean=0.09, sigma=0.01)\n",
        "gas_saturation_coef = Property(value=0.7, min=0.65, max=0.75, mean=0.70, sigma=0.01)\n",
        "reservoir_pressure  = Property(value=32.30, min=29.07, max=35.53)\n",
        "relative_density    = Property(value=0.63, min=0.63, max=0.64)\n",
        "reservoir_temp      = Property(value=320.49, min=288.44, max=352.54)\n",
        "permeability        = Property(value=0.75, min=0, max=19.14)"
      ]
    }
  ]
}